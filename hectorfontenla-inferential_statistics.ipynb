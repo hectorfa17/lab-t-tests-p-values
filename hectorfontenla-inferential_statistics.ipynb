{
 "cells": [
  {
   "cell_type": "markdown",
   "id": "03f4680b",
   "metadata": {},
   "source": [
    "# Lab | Inferential statistics - T-test & P-value"
   ]
  },
  {
   "cell_type": "markdown",
   "id": "4c413147",
   "metadata": {},
   "source": [
    "## One tailed t-test:"
   ]
  },
  {
   "cell_type": "markdown",
   "id": "1287e9e5",
   "metadata": {},
   "source": [
    "In a packing plant, a machine packs cartons with jars. It is supposed that a new machine will pack faster on the average than the machine currently used. To test that hypothesis, the times it takes each machine to pack ten cartons are recorded. The results, in seconds, are shown in the tables in the file files_for_lab/machine.txt. Assume that there is sufficient evidence to conduct the t test, does the data provide sufficient evidence to show if one machine is better than the other?"
   ]
  },
  {
   "cell_type": "code",
   "execution_count": 3,
   "id": "3f2d8499",
   "metadata": {
    "ExecuteTime": {
     "end_time": "2022-04-04T17:22:06.268895Z",
     "start_time": "2022-04-04T17:22:03.198498Z"
    }
   },
   "outputs": [],
   "source": [
    "import pandas as pd\n",
    "import numpy as np\n",
    "import scipy.stats as st\n",
    "import matplotlib.pyplot as plt\n",
    "import seaborn as sns"
   ]
  },
  {
   "cell_type": "code",
   "execution_count": 4,
   "id": "e862566b",
   "metadata": {
    "ExecuteTime": {
     "end_time": "2022-04-04T17:22:06.288730Z",
     "start_time": "2022-04-04T17:22:06.273158Z"
    }
   },
   "outputs": [],
   "source": [
    "machine = pd.read_csv(\"/Users/Hector_Martin/Documents/Labs/week7/lab-t-tests-p-values/files_for_lab/machine.txt\", encoding='utf=16', sep= '\\t')"
   ]
  },
  {
   "cell_type": "code",
   "execution_count": 5,
   "id": "d66a16c1",
   "metadata": {
    "ExecuteTime": {
     "end_time": "2022-04-04T17:22:06.304238Z",
     "start_time": "2022-04-04T17:22:06.291301Z"
    }
   },
   "outputs": [],
   "source": [
    "#Let's get all the observations per machine in 2 separate variables:\n",
    "\n",
    "new_machine = machine['New machine']\n",
    "old_machine = machine['Old machine']"
   ]
  },
  {
   "cell_type": "markdown",
   "id": "2cd512b2",
   "metadata": {},
   "source": [
    "#### Let's define our hypotheses based on the instructions provided above:"
   ]
  },
  {
   "cell_type": "markdown",
   "id": "68a72908",
   "metadata": {},
   "source": [
    "- H0: The new machine packs in less time\n",
    "- H1: The new machine packs in more time"
   ]
  },
  {
   "cell_type": "markdown",
   "id": "e870b847",
   "metadata": {},
   "source": [
    "####  Let's define as well our Confidence and Significance levels:"
   ]
  },
  {
   "cell_type": "markdown",
   "id": "4a1966e7",
   "metadata": {},
   "source": [
    "- Confidence level of H0: 0.95\n",
    "- Significance level of H1: 0.05"
   ]
  },
  {
   "cell_type": "markdown",
   "id": "3c6d6ac9",
   "metadata": {},
   "source": [
    "#### Now let's compute the elements required to obtain the Statistical value:"
   ]
  },
  {
   "cell_type": "code",
   "execution_count": 6,
   "id": "9fddc45d",
   "metadata": {
    "ExecuteTime": {
     "end_time": "2022-04-04T17:22:06.322575Z",
     "start_time": "2022-04-04T17:22:06.307763Z"
    }
   },
   "outputs": [
    {
     "name": "stdout",
     "output_type": "stream",
     "text": [
      "The mean of the New machine is 42.14\n",
      "The mean of the Old machine is 43.23\n",
      "The standard deviation of the New machine is 0.68\n",
      "The standard deviation of the Old machine is 0.75\n",
      "The ratio of the sample variances is 0.91 which is bigger than 0.5 and smaller than 2\n",
      "The t statistic is: -3.40\n"
     ]
    }
   ],
   "source": [
    "#We start by computing the performance mean of the new machine and old machine: \n",
    "new_machine_mean, old_machine_mean = machine['New machine'].mean(), machine['Old machine'].mean()\n",
    "\n",
    "#Let's do the same for the Standard Deviation:\n",
    "new_machine_std, old_machine_std = machine['New machine'].std(ddof=1), machine['Old machine'].std(ddof=1)\n",
    "\n",
    "#Now the Pooled Estimate of the common Standard Deviation:\n",
    "sp = ( len(new_machine) - 1 ) * ( new_machine_std**2 ) +  ( len(old_machine) - 1 ) * ( old_machine_std**2 )\n",
    "sp = sp/( len(new_machine) + len(old_machine) - 2)\n",
    "sp = np.sqrt(sp)\n",
    "\n",
    "#Then the square root of the total amount of observations per each machine:\n",
    "r = np.sqrt( (1/len(new_machine)) + (1/len(old_machine)) )\n",
    "\n",
    "#And finally the Statitical value:\n",
    "t = ( new_machine_mean - old_machine_mean )/ (sp * r)\n",
    "\n",
    "print(\"The mean of the New machine is {:.2f}\".format(new_machine_mean))\n",
    "print(\"The mean of the Old machine is {:.2f}\".format(old_machine_mean))\n",
    "print(\"The standard deviation of the New machine is {:.2f}\".format(new_machine_std))\n",
    "print(\"The standard deviation of the Old machine is {:.2f}\".format(old_machine_std))\n",
    "print(\"The ratio of the sample variances is {:.2f} which is bigger than 0.5 and smaller than 2\".format(new_machine_std/old_machine_std))\n",
    "print(\"The t statistic is: {:.2f}\".format(t))"
   ]
  },
  {
   "cell_type": "markdown",
   "id": "79952593",
   "metadata": {},
   "source": [
    "### Hypothesis Testing:"
   ]
  },
  {
   "cell_type": "markdown",
   "id": "91779603",
   "metadata": {},
   "source": [
    "#### Let's test out hypotheses first with the Critical value: "
   ]
  },
  {
   "cell_type": "code",
   "execution_count": 7,
   "id": "9682599f",
   "metadata": {
    "ExecuteTime": {
     "end_time": "2022-04-04T17:22:06.351832Z",
     "start_time": "2022-04-04T17:22:06.335803Z"
    }
   },
   "outputs": [
    {
     "data": {
      "text/plain": [
       "1.7340636066175354"
      ]
     },
     "execution_count": 7,
     "metadata": {},
     "output_type": "execute_result"
    }
   ],
   "source": [
    "Zc = st.t.ppf(1-(0.05),df = len(new_machine)+len(old_machine)-2)\n",
    "Zc"
   ]
  },
  {
   "cell_type": "markdown",
   "id": "d0f19789",
   "metadata": {},
   "source": [
    "The **critical value** is -3.40 and our **t statistic** is 1.73, therefore **we keep H0**. The New machine is faster than the old one."
   ]
  },
  {
   "cell_type": "markdown",
   "id": "2fea50c5",
   "metadata": {},
   "source": [
    "#### Let's do the same with the P value: "
   ]
  },
  {
   "cell_type": "code",
   "execution_count": 8,
   "id": "c1c87c2e",
   "metadata": {
    "ExecuteTime": {
     "end_time": "2022-04-04T17:22:06.370269Z",
     "start_time": "2022-04-04T17:22:06.354981Z"
    }
   },
   "outputs": [
    {
     "data": {
      "text/plain": [
       "0.0016055712503872579"
      ]
     },
     "execution_count": 8,
     "metadata": {},
     "output_type": "execute_result"
    }
   ],
   "source": [
    "p = st.t.cdf(t,df = len(new_machine)+len(old_machine)-2)\n",
    "p"
   ]
  },
  {
   "cell_type": "markdown",
   "id": "a62fc135",
   "metadata": {},
   "source": [
    "The **p value** is 0.66 and our **significance level** is 1.73, therefore **we keep H0**. The New machine is faster than the old one."
   ]
  },
  {
   "cell_type": "markdown",
   "id": "94eef9a4",
   "metadata": {},
   "source": [
    "## Matched Pairs Test:"
   ]
  },
  {
   "cell_type": "markdown",
   "id": "e66d215f",
   "metadata": {},
   "source": [
    "In this challenge we will compare dependent samples of data describing our Pokemon (file files_for_lab/pokemon.csv). Our goal is to see whether there is a significant difference between each Pokemon's defense and attack scores. Our hypothesis is that the defense and attack scores are equal. Compare the two columns to see if there is a statistically significant difference between them and comment your result."
   ]
  },
  {
   "cell_type": "code",
   "execution_count": 9,
   "id": "16e612e0",
   "metadata": {
    "ExecuteTime": {
     "end_time": "2022-04-04T17:22:06.393062Z",
     "start_time": "2022-04-04T17:22:06.375203Z"
    }
   },
   "outputs": [],
   "source": [
    "pokemon = pd.read_csv(\"/Users/Hector_Martin/Documents/Labs/week7/lab-t-tests-p-values/files_for_lab/pokemon.csv\")"
   ]
  },
  {
   "cell_type": "code",
   "execution_count": 10,
   "id": "48d0e195",
   "metadata": {
    "ExecuteTime": {
     "end_time": "2022-04-04T17:22:06.446770Z",
     "start_time": "2022-04-04T17:22:06.396324Z"
    }
   },
   "outputs": [
    {
     "data": {
      "text/html": [
       "<div>\n",
       "<style scoped>\n",
       "    .dataframe tbody tr th:only-of-type {\n",
       "        vertical-align: middle;\n",
       "    }\n",
       "\n",
       "    .dataframe tbody tr th {\n",
       "        vertical-align: top;\n",
       "    }\n",
       "\n",
       "    .dataframe thead th {\n",
       "        text-align: right;\n",
       "    }\n",
       "</style>\n",
       "<table border=\"1\" class=\"dataframe\">\n",
       "  <thead>\n",
       "    <tr style=\"text-align: right;\">\n",
       "      <th></th>\n",
       "      <th>#</th>\n",
       "      <th>Name</th>\n",
       "      <th>Type 1</th>\n",
       "      <th>Type 2</th>\n",
       "      <th>Total</th>\n",
       "      <th>HP</th>\n",
       "      <th>Attack</th>\n",
       "      <th>Defense</th>\n",
       "      <th>Sp. Atk</th>\n",
       "      <th>Sp. Def</th>\n",
       "      <th>Speed</th>\n",
       "      <th>Generation</th>\n",
       "      <th>Legendary</th>\n",
       "    </tr>\n",
       "  </thead>\n",
       "  <tbody>\n",
       "    <tr>\n",
       "      <th>0</th>\n",
       "      <td>1</td>\n",
       "      <td>Bulbasaur</td>\n",
       "      <td>Grass</td>\n",
       "      <td>Poison</td>\n",
       "      <td>318</td>\n",
       "      <td>45</td>\n",
       "      <td>49</td>\n",
       "      <td>49</td>\n",
       "      <td>65</td>\n",
       "      <td>65</td>\n",
       "      <td>45</td>\n",
       "      <td>1</td>\n",
       "      <td>False</td>\n",
       "    </tr>\n",
       "    <tr>\n",
       "      <th>1</th>\n",
       "      <td>2</td>\n",
       "      <td>Ivysaur</td>\n",
       "      <td>Grass</td>\n",
       "      <td>Poison</td>\n",
       "      <td>405</td>\n",
       "      <td>60</td>\n",
       "      <td>62</td>\n",
       "      <td>63</td>\n",
       "      <td>80</td>\n",
       "      <td>80</td>\n",
       "      <td>60</td>\n",
       "      <td>1</td>\n",
       "      <td>False</td>\n",
       "    </tr>\n",
       "    <tr>\n",
       "      <th>2</th>\n",
       "      <td>3</td>\n",
       "      <td>Venusaur</td>\n",
       "      <td>Grass</td>\n",
       "      <td>Poison</td>\n",
       "      <td>525</td>\n",
       "      <td>80</td>\n",
       "      <td>82</td>\n",
       "      <td>83</td>\n",
       "      <td>100</td>\n",
       "      <td>100</td>\n",
       "      <td>80</td>\n",
       "      <td>1</td>\n",
       "      <td>False</td>\n",
       "    </tr>\n",
       "    <tr>\n",
       "      <th>3</th>\n",
       "      <td>3</td>\n",
       "      <td>VenusaurMega Venusaur</td>\n",
       "      <td>Grass</td>\n",
       "      <td>Poison</td>\n",
       "      <td>625</td>\n",
       "      <td>80</td>\n",
       "      <td>100</td>\n",
       "      <td>123</td>\n",
       "      <td>122</td>\n",
       "      <td>120</td>\n",
       "      <td>80</td>\n",
       "      <td>1</td>\n",
       "      <td>False</td>\n",
       "    </tr>\n",
       "    <tr>\n",
       "      <th>4</th>\n",
       "      <td>4</td>\n",
       "      <td>Charmander</td>\n",
       "      <td>Fire</td>\n",
       "      <td>NaN</td>\n",
       "      <td>309</td>\n",
       "      <td>39</td>\n",
       "      <td>52</td>\n",
       "      <td>43</td>\n",
       "      <td>60</td>\n",
       "      <td>50</td>\n",
       "      <td>65</td>\n",
       "      <td>1</td>\n",
       "      <td>False</td>\n",
       "    </tr>\n",
       "  </tbody>\n",
       "</table>\n",
       "</div>"
      ],
      "text/plain": [
       "   #                   Name Type 1  Type 2  Total  HP  Attack  Defense  \\\n",
       "0  1              Bulbasaur  Grass  Poison    318  45      49       49   \n",
       "1  2                Ivysaur  Grass  Poison    405  60      62       63   \n",
       "2  3               Venusaur  Grass  Poison    525  80      82       83   \n",
       "3  3  VenusaurMega Venusaur  Grass  Poison    625  80     100      123   \n",
       "4  4             Charmander   Fire     NaN    309  39      52       43   \n",
       "\n",
       "   Sp. Atk  Sp. Def  Speed  Generation  Legendary  \n",
       "0       65       65     45           1      False  \n",
       "1       80       80     60           1      False  \n",
       "2      100      100     80           1      False  \n",
       "3      122      120     80           1      False  \n",
       "4       60       50     65           1      False  "
      ]
     },
     "execution_count": 10,
     "metadata": {},
     "output_type": "execute_result"
    }
   ],
   "source": [
    "pokemon.head(5)"
   ]
  },
  {
   "cell_type": "markdown",
   "id": "a9aa9188",
   "metadata": {},
   "source": [
    "#### Let's define our hypotheses based on the instructions provided above:"
   ]
  },
  {
   "cell_type": "markdown",
   "id": "5c6bf568",
   "metadata": {},
   "source": [
    "- H0: both Attack and Defense scores are equal\n",
    "- H1: Attack and Defense scores are different\n",
    "\n"
   ]
  },
  {
   "cell_type": "markdown",
   "id": "3f630e32",
   "metadata": {},
   "source": [
    "####  Let's define as well our Confidence and Significance levels:"
   ]
  },
  {
   "cell_type": "markdown",
   "id": "596be057",
   "metadata": {},
   "source": [
    "- Confidence level of H0: 0.95\n",
    "- Significance level of H1: 0.05/2 - since it is a 2 tailed test"
   ]
  },
  {
   "cell_type": "markdown",
   "id": "9b78be97",
   "metadata": {},
   "source": [
    "Since we only need Attack and Defense scores we are going to remove the rest of the columns:"
   ]
  },
  {
   "cell_type": "code",
   "execution_count": 11,
   "id": "b52bee11",
   "metadata": {
    "ExecuteTime": {
     "end_time": "2022-04-04T17:22:06.457844Z",
     "start_time": "2022-04-04T17:22:06.450358Z"
    }
   },
   "outputs": [],
   "source": [
    "pokemon_clean = pokemon[['Attack','Defense']]"
   ]
  },
  {
   "cell_type": "markdown",
   "id": "574d8b1a",
   "metadata": {},
   "source": [
    "Let's get a sample of 30 observations from the Dataframe, additionally to that we will add a column that computes the difference between both columns:"
   ]
  },
  {
   "cell_type": "code",
   "execution_count": 12,
   "id": "f119689b",
   "metadata": {
    "ExecuteTime": {
     "end_time": "2022-04-04T17:22:06.487687Z",
     "start_time": "2022-04-04T17:22:06.462003Z"
    }
   },
   "outputs": [
    {
     "data": {
      "text/html": [
       "<div>\n",
       "<style scoped>\n",
       "    .dataframe tbody tr th:only-of-type {\n",
       "        vertical-align: middle;\n",
       "    }\n",
       "\n",
       "    .dataframe tbody tr th {\n",
       "        vertical-align: top;\n",
       "    }\n",
       "\n",
       "    .dataframe thead th {\n",
       "        text-align: right;\n",
       "    }\n",
       "</style>\n",
       "<table border=\"1\" class=\"dataframe\">\n",
       "  <thead>\n",
       "    <tr style=\"text-align: right;\">\n",
       "      <th></th>\n",
       "      <th>Attack</th>\n",
       "      <th>Defense</th>\n",
       "      <th>difference</th>\n",
       "    </tr>\n",
       "  </thead>\n",
       "  <tbody>\n",
       "    <tr>\n",
       "      <th>8</th>\n",
       "      <td>104</td>\n",
       "      <td>78</td>\n",
       "      <td>26</td>\n",
       "    </tr>\n",
       "    <tr>\n",
       "      <th>510</th>\n",
       "      <td>92</td>\n",
       "      <td>75</td>\n",
       "      <td>17</td>\n",
       "    </tr>\n",
       "    <tr>\n",
       "      <th>175</th>\n",
       "      <td>46</td>\n",
       "      <td>34</td>\n",
       "      <td>12</td>\n",
       "    </tr>\n",
       "    <tr>\n",
       "      <th>735</th>\n",
       "      <td>50</td>\n",
       "      <td>58</td>\n",
       "      <td>-8</td>\n",
       "    </tr>\n",
       "    <tr>\n",
       "      <th>242</th>\n",
       "      <td>105</td>\n",
       "      <td>75</td>\n",
       "      <td>30</td>\n",
       "    </tr>\n",
       "  </tbody>\n",
       "</table>\n",
       "</div>"
      ],
      "text/plain": [
       "     Attack  Defense  difference\n",
       "8       104       78          26\n",
       "510      92       75          17\n",
       "175      46       34          12\n",
       "735      50       58          -8\n",
       "242     105       75          30"
      ]
     },
     "execution_count": 12,
     "metadata": {},
     "output_type": "execute_result"
    }
   ],
   "source": [
    "sample = pokemon_clean.sample(30, random_state = 1)\n",
    "sample['difference'] = sample['Attack']-sample['Defense']\n",
    "sample.head()"
   ]
  },
  {
   "cell_type": "markdown",
   "id": "4a868cd5",
   "metadata": {},
   "source": [
    "Now let's compute both Mean and Standard Deviation of the differences between Attack and Defense of our sample:"
   ]
  },
  {
   "cell_type": "code",
   "execution_count": 13,
   "id": "8c50023e",
   "metadata": {
    "ExecuteTime": {
     "end_time": "2022-04-04T17:22:06.508620Z",
     "start_time": "2022-04-04T17:22:06.492728Z"
    }
   },
   "outputs": [
    {
     "data": {
      "text/plain": [
       "(2.8, 36.32079294288603)"
      ]
     },
     "execution_count": 13,
     "metadata": {},
     "output_type": "execute_result"
    }
   ],
   "source": [
    "sample_diff_mean, sample_diff_std = sample['difference'].mean(), sample['difference'].std(ddof=1)\n",
    "sample_diff_mean, sample_diff_std"
   ]
  },
  {
   "cell_type": "code",
   "execution_count": 14,
   "id": "12f0a711",
   "metadata": {
    "ExecuteTime": {
     "end_time": "2022-04-04T17:22:06.524980Z",
     "start_time": "2022-04-04T17:22:06.513219Z"
    }
   },
   "outputs": [
    {
     "name": "stdout",
     "output_type": "stream",
     "text": [
      "The mean of our samples differences is: 2.80\n",
      "The standard deviation of our samples differences is: 36.32\n",
      "Our t statistics is: 0.42\n"
     ]
    }
   ],
   "source": [
    "t = sample_diff_mean / ( sample_diff_std / np.sqrt(sample.shape[0]) )\n",
    "print(\"The mean of our samples differences is: {:.2f}\".format(sample_diff_mean))\n",
    "print(\"The standard deviation of our samples differences is: {:.2f}\".format(sample_diff_std))\n",
    "print(\"Our t statistics is: {:.2f}\".format(t))"
   ]
  },
  {
   "cell_type": "markdown",
   "id": "10e0aec2",
   "metadata": {},
   "source": [
    "### Hypothesis Testing:"
   ]
  },
  {
   "cell_type": "markdown",
   "id": "c7a14bf8",
   "metadata": {},
   "source": [
    "#### Let's test out hypotheses first with the Critical values: "
   ]
  },
  {
   "cell_type": "markdown",
   "id": "59111a61",
   "metadata": {},
   "source": [
    "Since we are performing a 2 tailed test let's define the Critical value on both ends:"
   ]
  },
  {
   "cell_type": "code",
   "execution_count": 15,
   "id": "9607ee34",
   "metadata": {
    "ExecuteTime": {
     "end_time": "2022-04-04T17:22:06.540481Z",
     "start_time": "2022-04-04T17:22:06.528216Z"
    }
   },
   "outputs": [
    {
     "data": {
      "text/plain": [
       "2.045229642132703"
      ]
     },
     "execution_count": 15,
     "metadata": {},
     "output_type": "execute_result"
    }
   ],
   "source": [
    "#On the right side:\n",
    "\n",
    "Zc = st.t.ppf(1-(0.05/2),df= sample.shape[0] - 1)\n",
    "Zc"
   ]
  },
  {
   "cell_type": "code",
   "execution_count": 16,
   "id": "6aefcd13",
   "metadata": {
    "ExecuteTime": {
     "end_time": "2022-04-04T17:22:06.567638Z",
     "start_time": "2022-04-04T17:22:06.552278Z"
    },
    "scrolled": true
   },
   "outputs": [
    {
     "data": {
      "text/plain": [
       "-2.0452296421327034"
      ]
     },
     "execution_count": 16,
     "metadata": {},
     "output_type": "execute_result"
    }
   ],
   "source": [
    "#On the left side:\n",
    "\n",
    "neg_Zc = st.t.ppf((0.05/2),df= sample.shape[0] - 1)\n",
    "neg_Zc"
   ]
  },
  {
   "cell_type": "markdown",
   "id": "d21aab13",
   "metadata": {},
   "source": [
    "The **critical values** are -2.04 and 2.04 and our **t statistic** is 0.42, therefore **we keep H0**. There is no significant difference between Attack and Defense scores"
   ]
  },
  {
   "cell_type": "markdown",
   "id": "f7b1ee93",
   "metadata": {},
   "source": [
    "#### Let's do the same with the P value: "
   ]
  },
  {
   "cell_type": "code",
   "execution_count": 17,
   "id": "c5092f11",
   "metadata": {
    "ExecuteTime": {
     "end_time": "2022-04-04T17:22:06.581022Z",
     "start_time": "2022-04-04T17:22:06.570713Z"
    }
   },
   "outputs": [
    {
     "data": {
      "text/plain": [
       "0.6620194128841399"
      ]
     },
     "execution_count": 17,
     "metadata": {},
     "output_type": "execute_result"
    }
   ],
   "source": [
    "st.t.cdf(t,df = sample.shape[0] - 1)"
   ]
  },
  {
   "cell_type": "markdown",
   "id": "344e426d",
   "metadata": {},
   "source": [
    "Since our **P value** of 0.66 is bigger than the **significance level** of 0.025, we keep H0."
   ]
  },
  {
   "cell_type": "markdown",
   "id": "58a89d53",
   "metadata": {},
   "source": [
    "# OPTIONAL PART | Inferential statistics - ANOVA"
   ]
  },
  {
   "cell_type": "markdown",
   "id": "20de345e",
   "metadata": {},
   "source": [
    "## Part 1:"
   ]
  },
  {
   "cell_type": "markdown",
   "id": "70e9daa0",
   "metadata": {},
   "source": [
    "In this activity, we will look at another example. Your task is to understand the problem and write down all the steps to set up ANOVA. After the next lesson, we will ask you to solve this problem using Python. Here are the steps that you would need to work on: - Null hypothesis - Alternate hypothesis - Level of significance - Test statistic - P-value - F table"
   ]
  },
  {
   "cell_type": "markdown",
   "id": "e691667f",
   "metadata": {},
   "source": [
    "## Context:"
   ]
  },
  {
   "cell_type": "markdown",
   "id": "0c1968ed",
   "metadata": {},
   "source": [
    "Suppose you are working as an analyst in a microprocessor chip manufacturing plant. You have been given the task of analyzing a plasma etching process with respect to changing Power (in Watts) of the plasma beam. Data was collected and provided to you to conduct statistical analysis and check if changing the power of the plasma beam has any effect on the etching rate by the machine. You will conduct ANOVA and check if there is any difference in the mean etching rate for different levels of power. You can find the data anova_lab_data.xlsx file in the files_for_lab folder\n",
    "\n",
    "- State the null hypothesis\n",
    "- State the alternate hypothesis\n",
    "- What is the significance level\n",
    "- What are the degrees of freedom of model, error terms, and total DoF\n",
    "\n",
    "Data was collected randomly and provided to you in the table as shown: link to the image - Data"
   ]
  },
  {
   "cell_type": "markdown",
   "id": "de4ff130",
   "metadata": {},
   "source": [
    "### Let's read the data:"
   ]
  },
  {
   "cell_type": "code",
   "execution_count": 18,
   "id": "7eb7aa90",
   "metadata": {
    "ExecuteTime": {
     "end_time": "2022-04-04T17:22:06.994648Z",
     "start_time": "2022-04-04T17:22:06.584270Z"
    }
   },
   "outputs": [],
   "source": [
    "with pd.ExcelFile('files_for_lab/anova_lab_data.xlsx', engine=\"openpyxl\") as excel:\n",
    "     micro = pd.read_excel(excel)"
   ]
  },
  {
   "cell_type": "code",
   "execution_count": 19,
   "id": "9ca7f78f",
   "metadata": {
    "ExecuteTime": {
     "end_time": "2022-04-04T17:22:07.001355Z",
     "start_time": "2022-04-04T17:22:06.996768Z"
    }
   },
   "outputs": [],
   "source": [
    "#micro"
   ]
  },
  {
   "cell_type": "markdown",
   "id": "80075f28",
   "metadata": {},
   "source": [
    "### Stating the Null Hypothesis, Alternate Hypothesis and the Significance Level:"
   ]
  },
  {
   "cell_type": "markdown",
   "id": "95e734a6",
   "metadata": {},
   "source": [
    "- **H0**: The Etching Rate is the same regardless of changing the power on the Plasma Beam\n",
    "- **H1**: The Etching Rate is different by changing the power on the Plasma Beam\n",
    "- **Significance level**: 0.05"
   ]
  },
  {
   "cell_type": "markdown",
   "id": "925aa20e",
   "metadata": {},
   "source": [
    "Let's check the amount of observations per each of the power figures:"
   ]
  },
  {
   "cell_type": "code",
   "execution_count": 20,
   "id": "dcbbe644",
   "metadata": {
    "ExecuteTime": {
     "end_time": "2022-04-04T17:22:07.014867Z",
     "start_time": "2022-04-04T17:22:07.004195Z"
    }
   },
   "outputs": [
    {
     "data": {
      "text/plain": [
       "160 W    5\n",
       "180 W    5\n",
       "200 W    5\n",
       "Name: Power , dtype: int64"
      ]
     },
     "execution_count": 20,
     "metadata": {},
     "output_type": "execute_result"
    }
   ],
   "source": [
    "micro['Power '].value_counts()"
   ]
  },
  {
   "cell_type": "markdown",
   "id": "651657bf",
   "metadata": {},
   "source": [
    "We can see that all power figures have 5 observations. Let's go deeper and get the mean of each power figure groups and also the amount of samples per group in a Dataframe:"
   ]
  },
  {
   "cell_type": "code",
   "execution_count": 21,
   "id": "5f310d3b",
   "metadata": {
    "ExecuteTime": {
     "end_time": "2022-04-04T17:22:07.034760Z",
     "start_time": "2022-04-04T17:22:07.017542Z"
    }
   },
   "outputs": [
    {
     "data": {
      "text/html": [
       "<div>\n",
       "<style scoped>\n",
       "    .dataframe tbody tr th:only-of-type {\n",
       "        vertical-align: middle;\n",
       "    }\n",
       "\n",
       "    .dataframe tbody tr th {\n",
       "        vertical-align: top;\n",
       "    }\n",
       "\n",
       "    .dataframe thead th {\n",
       "        text-align: right;\n",
       "    }\n",
       "</style>\n",
       "<table border=\"1\" class=\"dataframe\">\n",
       "  <thead>\n",
       "    <tr style=\"text-align: right;\">\n",
       "      <th></th>\n",
       "      <th>Power</th>\n",
       "      <th>power_mean</th>\n",
       "      <th>sample</th>\n",
       "    </tr>\n",
       "  </thead>\n",
       "  <tbody>\n",
       "    <tr>\n",
       "      <th>0</th>\n",
       "      <td>160 W</td>\n",
       "      <td>5.792</td>\n",
       "      <td>5</td>\n",
       "    </tr>\n",
       "    <tr>\n",
       "      <th>1</th>\n",
       "      <td>180 W</td>\n",
       "      <td>6.238</td>\n",
       "      <td>5</td>\n",
       "    </tr>\n",
       "    <tr>\n",
       "      <th>2</th>\n",
       "      <td>200 W</td>\n",
       "      <td>8.318</td>\n",
       "      <td>5</td>\n",
       "    </tr>\n",
       "  </tbody>\n",
       "</table>\n",
       "</div>"
      ],
      "text/plain": [
       "  Power   power_mean  sample\n",
       "0  160 W       5.792       5\n",
       "1  180 W       6.238       5\n",
       "2  200 W       8.318       5"
      ]
     },
     "execution_count": 21,
     "metadata": {},
     "output_type": "execute_result"
    }
   ],
   "source": [
    "micro_grouped = micro.groupby('Power ')['Etching Rate'].agg(power_mean ='mean',sample='size').reset_index()\n",
    "micro_grouped"
   ]
  },
  {
   "cell_type": "markdown",
   "id": "872224ea",
   "metadata": {},
   "source": [
    "### What are the Degrees of Freedom, Error Terms and total DoF?"
   ]
  },
  {
   "cell_type": "markdown",
   "id": "e49cdf20",
   "metadata": {},
   "source": [
    "**Degrees of Freedom:**"
   ]
  },
  {
   "cell_type": "markdown",
   "id": "b0a9311c",
   "metadata": {},
   "source": [
    "We have 3 different groups, therefore 3 degrees of freedom\n"
   ]
  },
  {
   "cell_type": "markdown",
   "id": "edea6fe2",
   "metadata": {},
   "source": [
    "**Error Terms:**"
   ]
  },
  {
   "cell_type": "markdown",
   "id": "edd4c2f7",
   "metadata": {},
   "source": [
    "We have got 2 Error Terms - SST and SSE. Let's calculate both:"
   ]
  },
  {
   "cell_type": "markdown",
   "id": "18f93c62",
   "metadata": {},
   "source": [
    "**SST** - how much each group mean deviates from the global mean:"
   ]
  },
  {
   "cell_type": "code",
   "execution_count": 22,
   "id": "d69f068f",
   "metadata": {
    "ExecuteTime": {
     "end_time": "2022-04-04T17:22:07.096131Z",
     "start_time": "2022-04-04T17:22:07.037832Z"
    }
   },
   "outputs": [
    {
     "data": {
      "text/html": [
       "<div>\n",
       "<style scoped>\n",
       "    .dataframe tbody tr th:only-of-type {\n",
       "        vertical-align: middle;\n",
       "    }\n",
       "\n",
       "    .dataframe tbody tr th {\n",
       "        vertical-align: top;\n",
       "    }\n",
       "\n",
       "    .dataframe thead th {\n",
       "        text-align: right;\n",
       "    }\n",
       "</style>\n",
       "<table border=\"1\" class=\"dataframe\">\n",
       "  <thead>\n",
       "    <tr style=\"text-align: right;\">\n",
       "      <th></th>\n",
       "      <th>Power</th>\n",
       "      <th>Etching Rate</th>\n",
       "    </tr>\n",
       "  </thead>\n",
       "  <tbody>\n",
       "    <tr>\n",
       "      <th>0</th>\n",
       "      <td>160 W</td>\n",
       "      <td>5.43</td>\n",
       "    </tr>\n",
       "    <tr>\n",
       "      <th>1</th>\n",
       "      <td>180 W</td>\n",
       "      <td>6.24</td>\n",
       "    </tr>\n",
       "    <tr>\n",
       "      <th>2</th>\n",
       "      <td>200 W</td>\n",
       "      <td>8.79</td>\n",
       "    </tr>\n",
       "    <tr>\n",
       "      <th>3</th>\n",
       "      <td>160 W</td>\n",
       "      <td>5.71</td>\n",
       "    </tr>\n",
       "    <tr>\n",
       "      <th>4</th>\n",
       "      <td>180 W</td>\n",
       "      <td>6.71</td>\n",
       "    </tr>\n",
       "    <tr>\n",
       "      <th>5</th>\n",
       "      <td>200 W</td>\n",
       "      <td>9.20</td>\n",
       "    </tr>\n",
       "    <tr>\n",
       "      <th>6</th>\n",
       "      <td>160 W</td>\n",
       "      <td>6.22</td>\n",
       "    </tr>\n",
       "    <tr>\n",
       "      <th>7</th>\n",
       "      <td>180 W</td>\n",
       "      <td>5.98</td>\n",
       "    </tr>\n",
       "    <tr>\n",
       "      <th>8</th>\n",
       "      <td>200 W</td>\n",
       "      <td>7.90</td>\n",
       "    </tr>\n",
       "    <tr>\n",
       "      <th>9</th>\n",
       "      <td>160 W</td>\n",
       "      <td>6.01</td>\n",
       "    </tr>\n",
       "    <tr>\n",
       "      <th>10</th>\n",
       "      <td>180 W</td>\n",
       "      <td>5.66</td>\n",
       "    </tr>\n",
       "    <tr>\n",
       "      <th>11</th>\n",
       "      <td>200 W</td>\n",
       "      <td>8.15</td>\n",
       "    </tr>\n",
       "    <tr>\n",
       "      <th>12</th>\n",
       "      <td>160 W</td>\n",
       "      <td>5.59</td>\n",
       "    </tr>\n",
       "    <tr>\n",
       "      <th>13</th>\n",
       "      <td>180 W</td>\n",
       "      <td>6.60</td>\n",
       "    </tr>\n",
       "    <tr>\n",
       "      <th>14</th>\n",
       "      <td>200 W</td>\n",
       "      <td>7.55</td>\n",
       "    </tr>\n",
       "  </tbody>\n",
       "</table>\n",
       "</div>"
      ],
      "text/plain": [
       "   Power   Etching Rate\n",
       "0   160 W          5.43\n",
       "1   180 W          6.24\n",
       "2   200 W          8.79\n",
       "3   160 W          5.71\n",
       "4   180 W          6.71\n",
       "5   200 W          9.20\n",
       "6   160 W          6.22\n",
       "7   180 W          5.98\n",
       "8   200 W          7.90\n",
       "9   160 W          6.01\n",
       "10  180 W          5.66\n",
       "11  200 W          8.15\n",
       "12  160 W          5.59\n",
       "13  180 W          6.60\n",
       "14  200 W          7.55"
      ]
     },
     "execution_count": 22,
     "metadata": {},
     "output_type": "execute_result"
    }
   ],
   "source": [
    "micro"
   ]
  },
  {
   "cell_type": "code",
   "execution_count": 23,
   "id": "eb28fe37",
   "metadata": {
    "ExecuteTime": {
     "end_time": "2022-04-04T17:22:07.122699Z",
     "start_time": "2022-04-04T17:22:07.100266Z"
    }
   },
   "outputs": [
    {
     "name": "stdout",
     "output_type": "stream",
     "text": [
      "The value of S2t is 9.09\n"
     ]
    }
   ],
   "source": [
    "S2t = 0\n",
    "for power in micro['Power '].unique():\n",
    "    ng = len(micro[micro['Power '] == power])  \n",
    "    S2t  += ng * ( ( micro[micro['Power '] == power]['Etching Rate'].mean() - micro['Etching Rate'].mean() ) ** 2) \n",
    "S2t /= ( micro['Power '].nunique() - 1 ) \n",
    "\n",
    "print(\"The value of S2t is {:.2f}\".format(S2t)) "
   ]
  },
  {
   "cell_type": "markdown",
   "id": "bc5a6e1d",
   "metadata": {},
   "source": [
    "**SSE** -  how much every single value of every group deviates from the group mean"
   ]
  },
  {
   "cell_type": "code",
   "execution_count": 24,
   "id": "1943a45f",
   "metadata": {
    "ExecuteTime": {
     "end_time": "2022-04-04T17:22:07.140912Z",
     "start_time": "2022-04-04T17:22:07.126339Z"
    }
   },
   "outputs": [
    {
     "name": "stdout",
     "output_type": "stream",
     "text": [
      "\n",
      "The value of S2E is 0.25\n"
     ]
    }
   ],
   "source": [
    "S2E = 0\n",
    "for power in micro['Power '].unique():\n",
    "    ng = len(micro[micro['Power '] == power])\n",
    "    S2E += ( ng - 1 ) * np.var(micro[micro['Power '] == power]['Etching Rate'],ddof=1)\n",
    "S2E /= ( len(micro) - micro['Power '].nunique() ) \n",
    "\n",
    "print()\n",
    "print(\"The value of S2E is {:.2f}\".format(S2E))"
   ]
  },
  {
   "cell_type": "markdown",
   "id": "d279c3b4",
   "metadata": {},
   "source": [
    "Now let's compute the value of **F** statistic:"
   ]
  },
  {
   "cell_type": "code",
   "execution_count": 25,
   "id": "8c443bed",
   "metadata": {
    "ExecuteTime": {
     "end_time": "2022-04-04T17:22:07.155010Z",
     "start_time": "2022-04-04T17:22:07.144266Z"
    }
   },
   "outputs": [
    {
     "name": "stdout",
     "output_type": "stream",
     "text": [
      "The value of F is 36.88\n"
     ]
    }
   ],
   "source": [
    "F = S2t / S2E\n",
    "print(\"The value of F is {:.2f}\".format(F))"
   ]
  },
  {
   "cell_type": "markdown",
   "id": "88561d62",
   "metadata": {},
   "source": [
    "## Which is the actual number for the final DoF? 2, 12 or 14?"
   ]
  },
  {
   "cell_type": "code",
   "execution_count": 26,
   "id": "3404bb8a",
   "metadata": {
    "ExecuteTime": {
     "end_time": "2022-04-04T17:22:07.168106Z",
     "start_time": "2022-04-04T17:22:07.160460Z"
    }
   },
   "outputs": [
    {
     "name": "stdout",
     "output_type": "stream",
     "text": [
      "Number of degrees of freedom d1:  2\n",
      "Number of degrees of freedom d2:  12\n"
     ]
    }
   ],
   "source": [
    "d1 = micro['Power '].nunique() - 1\n",
    "d2 = len(micro) - micro['Power '].nunique()\n",
    "\n",
    "print(\"Number of degrees of freedom d1: \",d1)\n",
    "print(\"Number of degrees of freedom d2: \",d2)"
   ]
  },
  {
   "cell_type": "markdown",
   "id": "0b50fb11",
   "metadata": {},
   "source": [
    "### Hypothesis Testing:"
   ]
  },
  {
   "cell_type": "markdown",
   "id": "26d2be84",
   "metadata": {},
   "source": [
    "#### Critical value:"
   ]
  },
  {
   "cell_type": "code",
   "execution_count": 27,
   "id": "39b6b495",
   "metadata": {
    "ExecuteTime": {
     "end_time": "2022-04-04T17:22:07.183433Z",
     "start_time": "2022-04-04T17:22:07.175221Z"
    }
   },
   "outputs": [
    {
     "name": "stdout",
     "output_type": "stream",
     "text": [
      "The critical value which corresponds to the alpha of 0.05 is: 3.89\n"
     ]
    }
   ],
   "source": [
    "Fc = st.f.ppf(1-0.05,dfn=d1, dfd=d2)\n",
    "\n",
    "print(\"The critical value which corresponds to the alpha of 0.05 is: {:.2f}\".format(Fc))"
   ]
  },
  {
   "cell_type": "markdown",
   "id": "57b49ccd",
   "metadata": {},
   "source": [
    "As our F is bigger than the **critical value**, we reject H0."
   ]
  },
  {
   "cell_type": "markdown",
   "id": "6852c95d",
   "metadata": {},
   "source": [
    "The probability to get any F value lower or equal to out F can be obtained with the CDF:"
   ]
  },
  {
   "cell_type": "code",
   "execution_count": 28,
   "id": "72d38a20",
   "metadata": {
    "ExecuteTime": {
     "end_time": "2022-04-04T17:22:07.196787Z",
     "start_time": "2022-04-04T17:22:07.186661Z"
    }
   },
   "outputs": [
    {
     "data": {
      "text/plain": [
       "0.9999924934157276"
      ]
     },
     "execution_count": 28,
     "metadata": {},
     "output_type": "execute_result"
    }
   ],
   "source": [
    "st.f.cdf(F,dfn=d1, dfd=d2)"
   ]
  },
  {
   "cell_type": "markdown",
   "id": "01d75832",
   "metadata": {},
   "source": [
    "Thus, the probability to get any value smaller or equal to F:\n",
    "\n",
    "$$P(x \\le F=36.88)= 0.9999$$"
   ]
  },
  {
   "cell_type": "markdown",
   "id": "20feca44",
   "metadata": {},
   "source": [
    "#### P-Value:"
   ]
  },
  {
   "cell_type": "code",
   "execution_count": 29,
   "id": "2847237c",
   "metadata": {
    "ExecuteTime": {
     "end_time": "2022-04-04T17:22:07.210961Z",
     "start_time": "2022-04-04T17:22:07.201481Z"
    }
   },
   "outputs": [
    {
     "data": {
      "text/plain": [
       "7.5065842723986975e-06"
      ]
     },
     "execution_count": 29,
     "metadata": {},
     "output_type": "execute_result"
    }
   ],
   "source": [
    "1 - st.f.cdf(F,dfn=d1, dfd=d2)"
   ]
  },
  {
   "cell_type": "markdown",
   "id": "1f9962f4",
   "metadata": {},
   "source": [
    "Therefore, the probability to get a value bigger than F is:\n",
    "\n",
    "$$P(x > F) = 1 - P(x \\le F) = 0.000007506584272358903 < 0.05$$\n",
    "\n",
    "Therefore, we reject **H0**"
   ]
  },
  {
   "cell_type": "code",
   "execution_count": 30,
   "id": "b76373f6",
   "metadata": {
    "ExecuteTime": {
     "end_time": "2022-04-04T17:22:07.231401Z",
     "start_time": "2022-04-04T17:22:07.219246Z"
    }
   },
   "outputs": [
    {
     "data": {
      "text/plain": [
       "160 W    5\n",
       "180 W    5\n",
       "200 W    5\n",
       "Name: Power , dtype: int64"
      ]
     },
     "execution_count": 30,
     "metadata": {},
     "output_type": "execute_result"
    }
   ],
   "source": [
    "micro['Power '].value_counts()"
   ]
  },
  {
   "cell_type": "markdown",
   "id": "d9c17ed4",
   "metadata": {
    "ExecuteTime": {
     "end_time": "2022-04-04T17:20:11.813204Z",
     "start_time": "2022-04-04T17:20:11.808814Z"
    }
   },
   "source": [
    "## Part 2:"
   ]
  },
  {
   "cell_type": "markdown",
   "id": "df22141e",
   "metadata": {},
   "source": [
    "### Using the ANOVA formula:"
   ]
  },
  {
   "cell_type": "markdown",
   "id": "069feefa",
   "metadata": {},
   "source": [
    "This formula is already integrated in Scipy Stats:"
   ]
  },
  {
   "cell_type": "code",
   "execution_count": 31,
   "id": "a8de3831",
   "metadata": {
    "ExecuteTime": {
     "end_time": "2022-04-04T17:22:07.243685Z",
     "start_time": "2022-04-04T17:22:07.233925Z"
    }
   },
   "outputs": [
    {
     "name": "stdout",
     "output_type": "stream",
     "text": [
      "F_onewayResult(statistic=36.87895470100505, pvalue=7.506584272358903e-06)\n"
     ]
    }
   ],
   "source": [
    "print(st.f_oneway(micro[micro['Power '] == '160 W']['Etching Rate'],micro[micro['Power '] == '180 W']['Etching Rate'],\n",
    "                  micro[micro['Power '] == '200 W']['Etching Rate']))"
   ]
  },
  {
   "cell_type": "markdown",
   "id": "826659c8",
   "metadata": {},
   "source": [
    "We can see that the values are exactly the same as above. "
   ]
  }
 ],
 "metadata": {
  "kernelspec": {
   "display_name": "Python 3 (ipykernel)",
   "language": "python",
   "name": "python3"
  },
  "language_info": {
   "codemirror_mode": {
    "name": "ipython",
    "version": 3
   },
   "file_extension": ".py",
   "mimetype": "text/x-python",
   "name": "python",
   "nbconvert_exporter": "python",
   "pygments_lexer": "ipython3",
   "version": "3.9.7"
  },
  "toc": {
   "base_numbering": 1,
   "nav_menu": {},
   "number_sections": true,
   "sideBar": true,
   "skip_h1_title": false,
   "title_cell": "Table of Contents",
   "title_sidebar": "Contents",
   "toc_cell": false,
   "toc_position": {},
   "toc_section_display": true,
   "toc_window_display": true
  }
 },
 "nbformat": 4,
 "nbformat_minor": 5
}
